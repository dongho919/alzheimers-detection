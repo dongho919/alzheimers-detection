{
 "cells": [
  {
   "cell_type": "code",
   "execution_count": 2,
   "id": "32a6257a",
   "metadata": {},
   "outputs": [],
   "source": [
    "#imports\n",
    "import tensorflow as tf\n",
    "import tensorflow_datasets as tfds\n",
    "from tensorflow import keras\n",
    "import numpy as np\n",
    "import matplotlib.pyplot as plt\n",
    "from tensorflow.keras import layers\n",
    "from keras.preprocessing.image import img_to_array, array_to_img\n",
    "import pathlib\n",
    "\n",
    "from tensorflow.python.keras.models import Sequential\n",
    "from tensorflow.python.keras.layers import Dense"
   ]
  },
  {
   "cell_type": "code",
   "execution_count": 3,
   "id": "15fb865b",
   "metadata": {
    "scrolled": false
   },
   "outputs": [
    {
     "name": "stdout",
     "output_type": "stream",
     "text": [
      "[(False,) (False,) (False,) ... (False,) (False,) (False,)]\n"
     ]
    }
   ],
   "source": [
    "#../Project/Brain_Scans_CSV/CN_and_AD_1_21_2022.csv\n",
    "#ADNI1_Complete_1Yr_1.5T_1_26_2022.csv\n",
    "\n",
    "with open('../Project/Brain_Scans_CSV/ADNI1_Complete_1Yr_1.5T_1_26_2022.csv', 'rb') as x:\n",
    "         clean_lines = (line.replace(b'\"',b',') for line in x)\n",
    "         data_age = np.genfromtxt(clean_lines,delimiter=',',dtype=None,\n",
    "                         encoding=None,usecols=(13),skip_header=1)\n",
    "\n",
    "#data_age = data_age.astype(np.float)\n",
    "with open('../Project/Brain_Scans_CSV/ADNI1_Complete_1Yr_1.5T_1_26_2022.csv', 'rb') as x:\n",
    "         lines = (line.replace(b'\"',b',') for line in x)\n",
    "         data_group = np.genfromtxt(lines,delimiter=',',dtype=None,\n",
    "                         encoding=None,usecols=(2),\n",
    "                         skip_header=1)\n",
    "#data_group = np.genfromtxt(\"../Project/Brain_Scans_CSV/CN_and_AD_1_21_2022.csv\",delimiter=',',dtype=None,usecols=(2),skip_header=1)\n",
    "\n",
    "print(data_group)\n",
    "\n"
   ]
  },
  {
   "cell_type": "code",
   "execution_count": 6,
   "id": "5fb67d83",
   "metadata": {},
   "outputs": [
    {
     "data": {
      "image/png": "[encoded data removed]",
      "text/plain": [
       "<Figure size 720x360 with 1 Axes>"
      ]
     },
     "metadata": {
      "needs_background": "light"
     },
     "output_type": "display_data"
    },
    {
     "data": {
      "text/plain": [
       "<Figure size 432x288 with 0 Axes>"
      ]
     },
     "metadata": {},
     "output_type": "display_data"
    }
   ],
   "source": [
    "range_5565 = np.where(np.logical_and(data_age>=55, data_age<65))\n",
    "range_6570 = np.where(np.logical_and(data_age>=65, data_age<70))\n",
    "range_7075 = np.where(np.logical_and(data_age>=70, data_age<75))\n",
    "range_75 = np.where(data_age>=75)\n",
    "data = {'55-65':len(range_5565[0]), '65-70':len(range_6570[0]), '70-75':len(range_7075[0]),\n",
    "        '75+':len(range_75[0])}\n",
    "#print(range_60.__len__())\n",
    "ages = list(data.keys())\n",
    "num_ages = list(data.values())\n",
    "\n",
    "\n",
    "\n",
    "fig = plt.figure(figsize = (10, 5))\n",
    " \n",
    "# creating the bar plot\n",
    "plt.bar(ages, num_ages, color ='blue',\n",
    "        width = 0.3)\n",
    " \n",
    "plt.xlabel(\"Age\")\n",
    "plt.ylabel(\"Number In Range\")\n",
    "plt.title(\"Age ranges\")\n",
    "plt.show()\n",
    "\n",
    "plt.savefig(\"../Project/Result/AGE_GROUPS_GRAPH\")"
   ]
  },
  {
   "cell_type": "code",
   "execution_count": 5,
   "id": "33cc628a",
   "metadata": {},
   "outputs": [],
   "source": [
    "range_5565 = np.where(np.logical_and(data_age[0]>=55, data_age[0]<65))\n",
    "range_6570 = np.where(np.logical_and(data_age[0]>=65, data_age[0]<70))\n",
    "range_7075 = np.where(np.logical_and(data_age[0]>=70, data_age[0]<75))\n",
    "range_75 = np.where(data_age[0]>=75)\n",
    "data = {'55-65':len(range_5565[0]), '65-70':len(range_6570[0]), '70-75':len(range_7075[0]),\n",
    "        '75+':len(range_75[0])}\n",
    "#print(range_75.__len__())"
   ]
  },
  {
   "cell_type": "code",
   "execution_count": null,
   "id": "32dd3baa",
   "metadata": {},
   "outputs": [],
   "source": []
  }
 ],
 "metadata": {
  "kernelspec": {
   "display_name": "Python 3",
   "language": "python",
   "name": "python3"
  },
  "language_info": {
   "codemirror_mode": {
    "name": "ipython",
    "version": 3
   },
   "file_extension": ".py",
   "mimetype": "text/x-python",
   "name": "python",
   "nbconvert_exporter": "python",
   "pygments_lexer": "ipython3",
   "version": "3.8.8"
  }
 },
 "nbformat": 4,
 "nbformat_minor": 5
}

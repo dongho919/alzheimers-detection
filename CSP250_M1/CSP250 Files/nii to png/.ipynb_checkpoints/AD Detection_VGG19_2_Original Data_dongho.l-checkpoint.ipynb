{
 "cells": [
  {
   "cell_type": "code",
   "execution_count": 1,
   "id": "f509f3e4",
   "metadata": {},
   "outputs": [],
   "source": [
    "#imports\n",
    "\n",
    "import tensorflow as tf\n",
    "from tensorflow import keras\n",
    "import numpy as np\n",
    "import matplotlib.pyplot as plt\n",
    "from tensorflow.keras import layers\n",
    "import pathlib"
   ]
  },
  {
   "cell_type": "code",
   "execution_count": 2,
   "id": "597bd46e",
   "metadata": {},
   "outputs": [],
   "source": [
    "class_names = ['Yes', 'No']\n",
    "num_classes = len(class_names)\n",
    "batch_size = 32\n",
    "input_shape = (224, 224, 3)\n",
    "AUTOTUNE = tf.data.experimental.AUTOTUNE\n",
    "\n",
    "def one_hot_label(image, label):\n",
    "    label = tf.one_hot(label, num_classes)\n",
    "    return image, label"
   ]
  },
  {
   "cell_type": "code",
   "execution_count": 3,
   "id": "d46073e3",
   "metadata": {},
   "outputs": [
    {
     "name": "stdout",
     "output_type": "stream",
     "text": [
      "Found 2873 images belonging to 2 classes.\n",
      "Found 718 images belonging to 2 classes.\n"
     ]
    }
   ],
   "source": [
    "data_dir = pathlib.Path('../../Project/brain_layer_selection_dataset/')\n",
    "\n",
    "# horizontal flip and normalization are on (for better training)\n",
    "datagen = keras.preprocessing.image.ImageDataGenerator(horizontal_flip=True,\n",
    "                                                       #rotation_range=10,\n",
    "                                                       rescale=1./255,\n",
    "                                                       validation_split=0.2\n",
    "                                                       #brightness_range=(0.8,1.1),\n",
    "                                                       #zoom_range=0.2,\n",
    "                                                       #width_shift_range=0.1,\n",
    "                                                       #height_shift_range=0.1\n",
    "                                                      )\n",
    "\n",
    "# load the training images with horizontal flipping\n",
    "train_generator = datagen.flow_from_directory(\n",
    "        data_dir,\n",
    "        classes=class_names,\n",
    "        class_mode='categorical',\n",
    "        shuffle=True,\n",
    "        batch_size=batch_size,\n",
    "        target_size=input_shape[0:2],\n",
    "        subset='training')\n",
    "\n",
    "test_generator = datagen.flow_from_directory(\n",
    "        data_dir,\n",
    "        classes=class_names,\n",
    "        class_mode='categorical',\n",
    "        shuffle=True,\n",
    "        batch_size=batch_size,\n",
    "        target_size=input_shape[0:2],\n",
    "        subset='validation')"
   ]
  },
  {
   "cell_type": "code",
   "execution_count": 7,
   "id": "a372cbc1",
   "metadata": {},
   "outputs": [
    {
     "name": "stdout",
     "output_type": "stream",
     "text": [
      "Model: \"sequential_1\"\n",
      "_________________________________________________________________\n",
      "Layer (type)                 Output Shape              Param #   \n",
      "=================================================================\n",
      "vgg19 (Functional)           (None, 7, 7, 512)         20024384  \n",
      "_________________________________________________________________\n",
      "flatten_1 (Flatten)          (None, 25088)             0         \n",
      "_________________________________________________________________\n",
      "dropout_1 (Dropout)          (None, 25088)             0         \n",
      "_________________________________________________________________\n",
      "batch_normalization_1 (Batch (None, 25088)             100352    \n",
      "_________________________________________________________________\n",
      "dense_2 (Dense)              (None, 4)                 100356    \n",
      "_________________________________________________________________\n",
      "dense_3 (Dense)              (None, 2)                 10        \n",
      "=================================================================\n",
      "Total params: 20,225,102\n",
      "Trainable params: 150,542\n",
      "Non-trainable params: 20,074,560\n",
      "_________________________________________________________________\n"
     ]
    }
   ],
   "source": [
    "vgg = keras.applications.VGG19(\n",
    "        include_top=False,\n",
    "        input_shape=input_shape,\n",
    "        pooling=max)\n",
    "\n",
    "vgg.trainable = False\n",
    "\n",
    "model = keras.models.Sequential([\n",
    "    vgg,\n",
    "    layers.Flatten(),\n",
    "    layers.Dropout(0.5),\n",
    "    layers.BatchNormalization(),\n",
    "    layers.Dense(4, activation='relu'),\n",
    "    layers.Dense(num_classes, activation='softmax'),\n",
    "])\n",
    "\n",
    "model.summary()"
   ]
  },
  {
   "cell_type": "code",
   "execution_count": 8,
   "id": "ec706648",
   "metadata": {},
   "outputs": [
    {
     "name": "stdout",
     "output_type": "stream",
     "text": [
      "Epoch 1/10\n",
      "90/90 [==============================] - 20s 212ms/step - loss: 0.4274 - accuracy: 0.9346 - val_loss: 0.4731 - val_accuracy: 0.8969\n",
      "Epoch 2/10\n",
      "90/90 [==============================] - 19s 211ms/step - loss: 0.3597 - accuracy: 0.9718 - val_loss: 0.3982 - val_accuracy: 0.9471\n",
      "Epoch 3/10\n",
      "90/90 [==============================] - 19s 211ms/step - loss: 0.3363 - accuracy: 0.9760 - val_loss: 0.3968 - val_accuracy: 0.9499\n",
      "Epoch 4/10\n",
      "90/90 [==============================] - 19s 212ms/step - loss: 0.3203 - accuracy: 0.9760 - val_loss: 0.3931 - val_accuracy: 0.9540\n",
      "Epoch 5/10\n",
      "90/90 [==============================] - 19s 213ms/step - loss: 0.2997 - accuracy: 0.9767 - val_loss: 0.3675 - val_accuracy: 0.9540\n",
      "Epoch 6/10\n",
      "90/90 [==============================] - 19s 213ms/step - loss: 0.2804 - accuracy: 0.9795 - val_loss: 0.3410 - val_accuracy: 0.9652\n",
      "Epoch 7/10\n",
      "90/90 [==============================] - 19s 213ms/step - loss: 0.2661 - accuracy: 0.9777 - val_loss: 0.3501 - val_accuracy: 0.9610\n",
      "Epoch 8/10\n",
      "90/90 [==============================] - 19s 214ms/step - loss: 0.2499 - accuracy: 0.9822 - val_loss: 0.3751 - val_accuracy: 0.9485\n",
      "Epoch 9/10\n",
      "90/90 [==============================] - 19s 215ms/step - loss: 0.2467 - accuracy: 0.9822 - val_loss: 0.4743 - val_accuracy: 0.9415\n",
      "Epoch 10/10\n",
      "90/90 [==============================] - 20s 217ms/step - loss: 0.2230 - accuracy: 0.9819 - val_loss: 0.3019 - val_accuracy: 0.9596\n"
     ]
    }
   ],
   "source": [
    "epochs = 10\n",
    "model.compile(loss=\"binary_crossentropy\",\n",
    "              optimizer=\"adam\",\n",
    "              metrics=[\"accuracy\"])\n",
    "\n",
    "history = model.fit(train_generator, validation_data=test_generator, epochs=epochs)"
   ]
  },
  {
   "cell_type": "code",
   "execution_count": 11,
   "id": "c455d000",
   "metadata": {},
   "outputs": [
    {
     "data": {
      "image/png": "[encoded data removed]",
      "text/plain": [
       "<Figure size 432x288 with 1 Axes>"
      ]
     },
     "metadata": {
      "needs_background": "light"
     },
     "output_type": "display_data"
    }
   ],
   "source": [
    "plt.title('VGG19 Brain Layer Selection Accuracy')\n",
    "\n",
    "plt.plot(history.history['accuracy'], label = \"training acc.\")\n",
    "plt.plot(history.history['val_accuracy'], label = \"validation acc.\")\n",
    "plt.ylabel('accuracy')\n",
    "plt.xlabel('epoch')\n",
    "plt.legend(['training acc.', 'validation acc.'], loc='upper left')\n",
    "\n",
    "plt.savefig(\"../nii to png/VGG19_selection_adam.png\")\n",
    "plt.show()\n"
   ]
  },
  {
   "cell_type": "code",
   "execution_count": 12,
   "id": "4583d1cc",
   "metadata": {},
   "outputs": [
    {
     "name": "stdout",
     "output_type": "stream",
     "text": [
      "INFO:tensorflow:Assets written to: Brain Layer Selector\\assets\n"
     ]
    }
   ],
   "source": [
    "model.save(\"Brain Layer Selector\")"
   ]
  },
  {
   "cell_type": "code",
   "execution_count": null,
   "id": "09222487",
   "metadata": {},
   "outputs": [],
   "source": []
  }
 ],
 "metadata": {
  "kernelspec": {
   "display_name": "Python 3 (ipykernel)",
   "language": "python",
   "name": "python3"
  },
  "language_info": {
   "codemirror_mode": {
    "name": "ipython",
    "version": 3
   },
   "file_extension": ".py",
   "mimetype": "text/x-python",
   "name": "python",
   "nbconvert_exporter": "python",
   "pygments_lexer": "ipython3",
   "version": "3.8.12"
  }
 },
 "nbformat": 4,
 "nbformat_minor": 5
}

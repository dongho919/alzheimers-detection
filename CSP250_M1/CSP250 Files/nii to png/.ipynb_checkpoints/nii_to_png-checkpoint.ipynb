{
 "cells": [
  {
   "cell_type": "code",
   "execution_count": 24,
   "id": "b80fc601",
   "metadata": {},
   "outputs": [],
   "source": [
    "import numpy as np\n",
    "import png\n",
    "import os\n",
    "import nibabel as nib\n",
    "from matplotlib import pyplot as pl\n",
    "import matplotlib\n",
    "import math\n",
    "import csv\n",
    "import cv2\n",
    "from tensorflow import keras\n",
    "import tensorflow as tf\n",
    "import sys"
   ]
  },
  {
   "cell_type": "code",
   "execution_count": 25,
   "id": "8a988b65",
   "metadata": {},
   "outputs": [],
   "source": [
    "verbose = False"
   ]
  },
  {
   "cell_type": "code",
   "execution_count": 26,
   "id": "1d93ffc2",
   "metadata": {},
   "outputs": [],
   "source": [
    "# input_folder = folder that contains the .nii file\n",
    "# output_folder = folder that the .png file will be saved in\n",
    "# model = a model deciding whether to include or discard brain layers\n",
    "def nii_to_png(input_folder, output_folder, model):\n",
    "    config = model.get_config() # Returns pretty much every information about your model\n",
    "    input_shape = config[\"layers\"][0][\"config\"][\"batch_input_shape\"][1:3] # width and height\n",
    "    filenames = os.listdir(input_folder)\n",
    "    for f in filenames:\n",
    "        if f.endswith('.nii'):\n",
    "            #Start reading nii files\n",
    "            img_path = os.path.join(input_folder, f)\n",
    "            img = nib.load(img_path) #read nii            \n",
    "            img_fdata = img.get_fdata()\n",
    "            fname = filename[ filename.rfind('_')+1 : filename.find('.nii') ]\n",
    "\n",
    "            #  to image\n",
    "            (x,y,z) = img.shape\n",
    "            for i in range(0,x): #x is the sequence of images\n",
    "                slice = img_fdata[i, :, :] #Select which direction the slice can be\n",
    "                #slice_resized = cv2.resize(slice, dsize=input_shape, interpolation=cv2.INTER_LINEAR)\n",
    "                #slice_resized = tf.convert_to_tensor( slice_resized.reshape(None, *input_shape, 3) )\n",
    "                \n",
    "                #if model.predict_step(slice_resized) == 0:\n",
    "                matplotlib.image.imsave(os.path.join(output_folder,'{}-{}.png'.format(fname, i)), slice)"
   ]
  },
  {
   "cell_type": "code",
   "execution_count": 27,
   "id": "5e107228",
   "metadata": {
    "scrolled": true
   },
   "outputs": [],
   "source": [
    "input_folder = 'C:\\\\Users\\\\dongh\\\\Desktop\\\\ADNI1_Complete 1Yr 1.5T (1)\\\\ADNI'\n",
    "output_folder = 'C:\\\\Users\\\\dongh\\\\Desktop\\\\ADNI1_Complete 1Yr 1.5T (1)\\\\PNG'\n",
    "metadata = 'C:\\\\Users\\\\dongh\\\\Downloads\\\\ADNI1_Complete_1Yr_1.5T_1_26_2022.csv'\n",
    "\n",
    "# use the csv metadata to correctly categorize the patients into CN, MCI, AD\n",
    "img_group_dict = {}\n",
    "# image groups: cognitively normal, mild cognitive impairment, Alzheimer's disease\n",
    "group_folder_dict = {'CN':'NonDemented', 'MCI':'Demented', 'AD':'Demented'}\n",
    "with open(metadata, newline='') as csvfile:\n",
    "    reader = csv.DictReader(csvfile, delimiter=',', quotechar='\\\"')\n",
    "    for row in reader:\n",
    "        # this dictionary will be used to find what group (output folder) \n",
    "        # a patient belongs to\n",
    "        img_group_dict[ row['Image Data ID'] ] = row['Group']\n",
    "\n",
    "if not os.path.exists(output_folder):\n",
    "    os.makedirs(output_folder)\n",
    "\n",
    "# create subfolders in the output folder\n",
    "for group in group_folder_dict:\n",
    "    subfolder = os.path.join(output_folder, group_folder_dict[group])\n",
    "    # put the generated subfolder directory in the dictionary for image export purposes\n",
    "    group_folder_dict[group] = subfolder\n",
    "    if not os.path.exists(subfolder):\n",
    "        os.makedirs(subfolder)\n"
   ]
  },
  {
   "cell_type": "code",
   "execution_count": 28,
   "id": "1cc18709",
   "metadata": {
    "scrolled": true
   },
   "outputs": [
    {
     "name": "stdout",
     "output_type": "stream",
     "text": [
      "I86020, CN\n",
      "I40683, CN\n",
      "I74174, CN\n",
      "I118680, CN\n",
      "I73881, CN\n",
      "I81330, CN\n",
      "I35499, MCI\n",
      "I35569, MCI\n",
      "I87484, MCI\n",
      "I70648, MCI\n",
      "I65167, MCI\n",
      "I71606, MCI\n",
      "I91985, MCI\n",
      "I40312, AD\n",
      "I40303, AD\n",
      "I66745, AD\n"
     ]
    }
   ],
   "source": [
    "vgg19 = keras.models.load_model('Brain Layer Selector')\n",
    "\n",
    "for root, dirnames, filenames in os.walk(input_folder):\n",
    "    # no more subdirectories; we are looking at a folder with a .nii file\n",
    "    if len(dirnames) == 0:\n",
    "        filename = filenames[0] # there's only one file in the folder so just pick it\n",
    "        img_id = filename[ filename.rfind('_')+1 : filename.find('.nii') ]\n",
    "        group = img_group_dict[img_id]\n",
    "        print(img_id, group, sep=', ')\n",
    "        nii_to_png(root, group_folder_dict[group], vgg19)"
   ]
  },
  {
   "cell_type": "code",
   "execution_count": null,
   "id": "bbd1b3b5",
   "metadata": {},
   "outputs": [],
   "source": []
  }
 ],
 "metadata": {
  "kernelspec": {
   "display_name": "Python 3 (ipykernel)",
   "language": "python",
   "name": "python3"
  },
  "language_info": {
   "codemirror_mode": {
    "name": "ipython",
    "version": 3
   },
   "file_extension": ".py",
   "mimetype": "text/x-python",
   "name": "python",
   "nbconvert_exporter": "python",
   "pygments_lexer": "ipython3",
   "version": "3.8.12"
  }
 },
 "nbformat": 4,
 "nbformat_minor": 5
}

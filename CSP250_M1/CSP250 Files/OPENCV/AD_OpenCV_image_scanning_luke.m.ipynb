{
 "cells": [
  {
   "cell_type": "code",
   "execution_count": null,
   "id": "c119f539",
   "metadata": {},
   "outputs": [],
   "source": [
    "import cv2 as cv\n",
    "\n",
    "#load images\n",
    "image1 = cv.imread('../Project/Alzheimer_s Dataset_binary/train/Demented/mildDem2.jpg')\n",
    "image2 = cv.imread('../Project/Alzheimer_s Dataset_binary/train/Demented/mildDem2.jpg')"
   ]
  },
  {
   "cell_type": "code",
   "execution_count": null,
   "id": "b9ae32ea",
   "metadata": {},
   "outputs": [],
   "source": [
    "#convert to grayscale image\n",
    "gray_scale1 = cv.cvtColor(image1, cv.COLOR_BGR2GRAY)\n",
    "gray_scale2 = cv.cvtColor(image2, cv.COLOR_BGR2GRAY)"
   ]
  },
  {
   "cell_type": "code",
   "execution_count": null,
   "id": "aaf3afde",
   "metadata": {},
   "outputs": [],
   "source": [
    "#initialize SIFT object\n",
    "sift = cv.xfeatures2d.SIFT_create()\n",
    "\n",
    "keypoints1, des1= sift.detectAndCompute(image1, None)\n",
    "keypoints2, des2= sift.detectAndCompute(image2, None)"
   ]
  },
  {
   "cell_type": "code",
   "execution_count": null,
   "id": "c7ddb7b8",
   "metadata": {},
   "outputs": [],
   "source": [
    "# initialize Brute force matching\n",
    "bf = cv.BFMatcher(cv.NORM_L1, crossCheck=True)\n",
    "matches = bf.match(des1,des2)"
   ]
  },
  {
   "cell_type": "code",
   "execution_count": null,
   "id": "3a876c23",
   "metadata": {},
   "outputs": [],
   "source": [
    " #sort the matches \n",
    "matches = sorted(matches, key= lambda match : match.distance)"
   ]
  },
  {
   "cell_type": "code",
   "execution_count": null,
   "id": "121f5451",
   "metadata": {},
   "outputs": [],
   "source": [
    "#draw matches\n",
    "matched_imge = cv.drawMatches(image1, keypoints1, image2, keypoints2, matches[:30], None)\n",
    "cv.imshow(\"Matching Images\", matched_imge)\n",
    "cv.waitKey(0)"
   ]
  },
  {
   "cell_type": "code",
   "execution_count": null,
   "id": "4b1a05bd",
   "metadata": {},
   "outputs": [],
   "source": [
    "#FIND AVERAGE LENGTH OF LINES TO GET A SCORE TO TEST SIMILARITY"
   ]
  }
 ],
 "metadata": {
  "kernelspec": {
   "display_name": "Python 3 (ipykernel)",
   "language": "python",
   "name": "python3"
  },
  "language_info": {
   "codemirror_mode": {
    "name": "ipython",
    "version": 3
   },
   "file_extension": ".py",
   "mimetype": "text/x-python",
   "name": "python",
   "nbconvert_exporter": "python",
   "pygments_lexer": "ipython3",
   "version": "3.9.7"
  }
 },
 "nbformat": 4,
 "nbformat_minor": 5
}

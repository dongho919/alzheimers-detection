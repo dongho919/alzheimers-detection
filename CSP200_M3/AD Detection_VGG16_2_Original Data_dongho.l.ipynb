{
 "cells": [
  {
   "cell_type": "code",
   "execution_count": 1,
   "id": "f509f3e4",
   "metadata": {},
   "outputs": [],
   "source": [
    "#imports\n",
    "import tensorflow as tf\n",
    "from tensorflow import keras\n",
    "from tensorflow.keras import layers\n",
    "import numpy as np\n",
    "import matplotlib.pyplot as plt\n",
    "import pathlib"
   ]
  },
  {
   "cell_type": "code",
   "execution_count": 2,
   "id": "597bd46e",
   "metadata": {},
   "outputs": [],
   "source": [
    "class_names = ['NonDemented', 'Demented']\n",
    "num_classes = len(class_names)\n",
    "batch_size = 64\n",
    "input_shape = (208, 176, 3)\n",
    "AUTOTUNE = tf.data.experimental.AUTOTUNE\n",
    "\n",
    "def one_hot_label(image, label):\n",
    "    label = tf.one_hot(label, num_classes)\n",
    "    return image, label"
   ]
  },
  {
   "cell_type": "code",
   "execution_count": 3,
   "id": "d8ac5e00",
   "metadata": {},
   "outputs": [
    {
     "name": "stdout",
     "output_type": "stream",
     "text": [
      "Found 5121 files belonging to 2 classes.\n",
      "Found 1279 files belonging to 2 classes.\n"
     ]
    }
   ],
   "source": [
    "train_dir = pathlib.Path('../Project/Alzheimer_s Dataset_binary/train')\n",
    "test_dir = pathlib.Path('../Project/Alzheimer_s Dataset_binary/test')\n",
    "\n",
    "train_dataset = tf.keras.utils.image_dataset_from_directory(\n",
    "        train_dir,\n",
    "        labels='inferred',\n",
    "        class_names=class_names,\n",
    "        batch_size=batch_size,\n",
    "        image_size=input_shape[0:2])\n",
    "\n",
    "test_dataset = tf.keras.utils.image_dataset_from_directory(\n",
    "        test_dir,\n",
    "        labels='inferred',\n",
    "        class_names=class_names,\n",
    "        batch_size=batch_size,\n",
    "        image_size=input_shape[0:2])"
   ]
  },
  {
   "cell_type": "code",
   "execution_count": 4,
   "id": "5a9a092a",
   "metadata": {},
   "outputs": [],
   "source": [
    "train_dataset = train_dataset.map(one_hot_label, num_parallel_calls=AUTOTUNE)\n",
    "test_dataset = test_dataset.map(one_hot_label, num_parallel_calls=AUTOTUNE)"
   ]
  },
  {
   "cell_type": "code",
   "execution_count": 9,
   "id": "a372cbc1",
   "metadata": {},
   "outputs": [
    {
     "name": "stdout",
     "output_type": "stream",
     "text": [
      "Model: \"sequential_2\"\n",
      "_________________________________________________________________\n",
      "Layer (type)                 Output Shape              Param #   \n",
      "=================================================================\n",
      "vgg16 (Functional)           (None, 6, 5, 512)         14714688  \n",
      "_________________________________________________________________\n",
      "flatten_2 (Flatten)          (None, 15360)             0         \n",
      "_________________________________________________________________\n",
      "dense_6 (Dense)              (None, 64)                983104    \n",
      "_________________________________________________________________\n",
      "dense_7 (Dense)              (None, 32)                2080      \n",
      "_________________________________________________________________\n",
      "dense_8 (Dense)              (None, 2)                 66        \n",
      "=================================================================\n",
      "Total params: 15,699,938\n",
      "Trainable params: 985,250\n",
      "Non-trainable params: 14,714,688\n",
      "_________________________________________________________________\n"
     ]
    }
   ],
   "source": [
    "vgg = keras.applications.VGG16(\n",
    "        include_top=False,\n",
    "        input_shape=input_shape,\n",
    "        pooling=max)\n",
    "\n",
    "vgg.trainable = False\n",
    "\n",
    "model = keras.models.Sequential([\n",
    "    vgg,\n",
    "    layers.Flatten(),\n",
    "    layers.Dense(64, activation='relu'),\n",
    "    layers.Dense(32, activation='relu'),\n",
    "    layers.Dense(num_classes, activation='softmax'),\n",
    "])\n",
    "\n",
    "model.summary()"
   ]
  },
  {
   "cell_type": "code",
   "execution_count": 10,
   "id": "ec706648",
   "metadata": {},
   "outputs": [
    {
     "name": "stdout",
     "output_type": "stream",
     "text": [
      "Epoch 1/30\n",
      "81/81 [==============================] - 22s 269ms/step - loss: 1.1384 - accuracy: 0.6303 - val_loss: 0.8380 - val_accuracy: 0.6411\n",
      "Epoch 2/30\n",
      "81/81 [==============================] - 22s 269ms/step - loss: 0.6180 - accuracy: 0.7290 - val_loss: 0.7022 - val_accuracy: 0.6701\n",
      "Epoch 3/30\n",
      "81/81 [==============================] - 22s 268ms/step - loss: 0.4782 - accuracy: 0.7971 - val_loss: 1.0742 - val_accuracy: 0.5825\n",
      "Epoch 4/30\n",
      "81/81 [==============================] - 22s 269ms/step - loss: 0.3993 - accuracy: 0.8346 - val_loss: 0.7801 - val_accuracy: 0.6747\n",
      "Epoch 5/30\n",
      "81/81 [==============================] - 22s 269ms/step - loss: 0.3184 - accuracy: 0.8752 - val_loss: 0.7822 - val_accuracy: 0.6927\n",
      "Epoch 6/30\n",
      "81/81 [==============================] - 22s 271ms/step - loss: 0.2627 - accuracy: 0.9002 - val_loss: 0.7164 - val_accuracy: 0.7146\n",
      "Epoch 7/30\n",
      "81/81 [==============================] - 22s 271ms/step - loss: 0.2139 - accuracy: 0.9252 - val_loss: 0.9332 - val_accuracy: 0.6888\n",
      "Epoch 8/30\n",
      "81/81 [==============================] - 22s 271ms/step - loss: 0.1729 - accuracy: 0.9434 - val_loss: 0.8857 - val_accuracy: 0.7084\n",
      "Epoch 9/30\n",
      "81/81 [==============================] - 22s 270ms/step - loss: 0.1424 - accuracy: 0.9541 - val_loss: 0.8167 - val_accuracy: 0.7170\n",
      "Epoch 10/30\n",
      "81/81 [==============================] - 22s 270ms/step - loss: 0.1191 - accuracy: 0.9637 - val_loss: 0.9729 - val_accuracy: 0.6943\n",
      "Epoch 11/30\n",
      "81/81 [==============================] - 22s 272ms/step - loss: 0.1032 - accuracy: 0.9719 - val_loss: 0.7537 - val_accuracy: 0.7537\n",
      "Epoch 12/30\n",
      "81/81 [==============================] - 22s 277ms/step - loss: 0.0778 - accuracy: 0.9797 - val_loss: 0.7763 - val_accuracy: 0.7537\n",
      "Epoch 13/30\n",
      "81/81 [==============================] - 22s 275ms/step - loss: 0.0821 - accuracy: 0.9813 - val_loss: 1.0280 - val_accuracy: 0.7052\n",
      "Epoch 14/30\n",
      "81/81 [==============================] - 22s 273ms/step - loss: 0.0563 - accuracy: 0.9863 - val_loss: 0.8435 - val_accuracy: 0.7553\n",
      "Epoch 15/30\n",
      "81/81 [==============================] - 22s 274ms/step - loss: 0.0511 - accuracy: 0.9871 - val_loss: 0.9503 - val_accuracy: 0.7553\n",
      "Epoch 16/30\n",
      "81/81 [==============================] - 22s 273ms/step - loss: 0.0571 - accuracy: 0.9824 - val_loss: 0.8315 - val_accuracy: 0.7686\n",
      "Epoch 17/30\n",
      "81/81 [==============================] - 23s 277ms/step - loss: 0.0408 - accuracy: 0.9898 - val_loss: 1.0238 - val_accuracy: 0.7529\n",
      "Epoch 18/30\n",
      "81/81 [==============================] - 22s 273ms/step - loss: 0.0393 - accuracy: 0.9889 - val_loss: 0.9947 - val_accuracy: 0.7647\n",
      "Epoch 19/30\n",
      "81/81 [==============================] - 22s 271ms/step - loss: 0.0224 - accuracy: 0.9939 - val_loss: 0.9298 - val_accuracy: 0.7639\n",
      "Epoch 20/30\n",
      "81/81 [==============================] - 22s 269ms/step - loss: 0.0617 - accuracy: 0.9840 - val_loss: 1.0381 - val_accuracy: 0.7389\n",
      "Epoch 21/30\n",
      "81/81 [==============================] - 22s 269ms/step - loss: 0.0253 - accuracy: 0.9957 - val_loss: 1.0696 - val_accuracy: 0.7592\n",
      "Epoch 22/30\n",
      "81/81 [==============================] - 22s 269ms/step - loss: 0.0258 - accuracy: 0.9943 - val_loss: 0.9594 - val_accuracy: 0.7694\n",
      "Epoch 23/30\n",
      "81/81 [==============================] - 22s 270ms/step - loss: 0.0175 - accuracy: 0.9959 - val_loss: 1.0689 - val_accuracy: 0.7561\n",
      "Epoch 24/30\n",
      "81/81 [==============================] - 22s 270ms/step - loss: 0.0334 - accuracy: 0.9936 - val_loss: 1.2210 - val_accuracy: 0.7389\n",
      "Epoch 25/30\n",
      "81/81 [==============================] - 22s 271ms/step - loss: 0.0394 - accuracy: 0.9920 - val_loss: 1.0524 - val_accuracy: 0.7670\n",
      "Epoch 26/30\n",
      "81/81 [==============================] - 22s 274ms/step - loss: 0.0182 - accuracy: 0.9949 - val_loss: 1.0459 - val_accuracy: 0.7772\n",
      "Epoch 27/30\n",
      "81/81 [==============================] - 22s 272ms/step - loss: 0.0235 - accuracy: 0.9939 - val_loss: 1.0430 - val_accuracy: 0.7780\n",
      "Epoch 28/30\n",
      "81/81 [==============================] - 22s 270ms/step - loss: 0.0203 - accuracy: 0.9943 - val_loss: 1.0743 - val_accuracy: 0.7826\n",
      "Epoch 29/30\n",
      "81/81 [==============================] - 22s 271ms/step - loss: 0.0143 - accuracy: 0.9949 - val_loss: 1.1107 - val_accuracy: 0.7748\n",
      "Epoch 30/30\n",
      "81/81 [==============================] - 22s 272ms/step - loss: 0.0184 - accuracy: 0.9949 - val_loss: 1.1416 - val_accuracy: 0.7694\n"
     ]
    }
   ],
   "source": [
    "epochs = 30\n",
    "model.compile(loss=\"binary_crossentropy\",\n",
    "              optimizer=keras.optimizers.RMSprop(learning_rate=0.0001),\n",
    "              metrics=[\"accuracy\"])\n",
    "\n",
    "history = model.fit(train_dataset, epochs=epochs, validation_data=test_dataset)"
   ]
  },
  {
   "cell_type": "code",
   "execution_count": null,
   "id": "c455d000",
   "metadata": {},
   "outputs": [],
   "source": [
    "plt.title('VGG16 Transfer Learning Accuracy')\n",
    "\n",
    "plt.plot(history.history['accuracy'], label = \"training acc.\")\n",
    "plt.plot(history.history['val_accuracy'], label = \"validation acc.\")\n",
    "plt.ylabel('accuracy')\n",
    "plt.xlabel('epoch')\n",
    "plt.legend(['training acc.', 'validation acc.'], loc='upper left')\n",
    "\n",
    "plt.savefig(\"../Project/Result2/VGG16_MODEL_ACCURACY_RMSprop\")\n",
    "plt.show()\n"
   ]
  },
  {
   "cell_type": "code",
   "execution_count": null,
   "id": "4583d1cc",
   "metadata": {},
   "outputs": [],
   "source": []
  }
 ],
 "metadata": {
  "kernelspec": {
   "display_name": "Python 3 (ipykernel)",
   "language": "python",
   "name": "python3"
  },
  "language_info": {
   "codemirror_mode": {
    "name": "ipython",
    "version": 3
   },
   "file_extension": ".py",
   "mimetype": "text/x-python",
   "name": "python",
   "nbconvert_exporter": "python",
   "pygments_lexer": "ipython3",
   "version": "3.8.12"
  }
 },
 "nbformat": 4,
 "nbformat_minor": 5
}

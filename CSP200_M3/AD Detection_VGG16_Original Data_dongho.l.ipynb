{
 "cells": [
  {
   "cell_type": "code",
   "execution_count": 3,
   "id": "f509f3e4",
   "metadata": {},
   "outputs": [],
   "source": [
    "#imports\n",
    "import tensorflow as tf\n",
    "from tensorflow import keras\n",
    "from tensorflow.keras import layers\n",
    "import numpy as np\n",
    "import matplotlib.pyplot as plt\n",
    "import pathlib"
   ]
  },
  {
   "cell_type": "code",
   "execution_count": 4,
   "id": "597bd46e",
   "metadata": {},
   "outputs": [],
   "source": [
    "class_names = ['NonDemented', 'Demented']\n",
    "num_classes = len(class_names)\n",
    "batch_size = 64\n",
    "input_shape = (208, 176, 3)\n",
    "AUTOTUNE = tf.data.experimental.AUTOTUNE\n",
    "\n",
    "def one_hot_label(image, label):\n",
    "    label = tf.one_hot(label, num_classes)\n",
    "    return image, label"
   ]
  },
  {
   "cell_type": "code",
   "execution_count": 5,
   "id": "d8ac5e00",
   "metadata": {},
   "outputs": [
    {
     "name": "stdout",
     "output_type": "stream",
     "text": [
      "Found 5121 files belonging to 2 classes.\n",
      "Found 1279 files belonging to 2 classes.\n"
     ]
    }
   ],
   "source": [
    "train_dir = pathlib.Path('../Project/Alzheimer_s Dataset_binary/train')\n",
    "test_dir = pathlib.Path('../Project/Alzheimer_s Dataset_binary/test')\n",
    "\n",
    "train_dataset = tf.keras.utils.image_dataset_from_directory(\n",
    "        train_dir,\n",
    "        labels='inferred',\n",
    "        class_names=class_names,\n",
    "        batch_size=batch_size,\n",
    "        image_size=input_shape[0:2])\n",
    "\n",
    "test_dataset = tf.keras.utils.image_dataset_from_directory(\n",
    "        test_dir,\n",
    "        labels='inferred',\n",
    "        class_names=class_names,\n",
    "        batch_size=batch_size,\n",
    "        image_size=input_shape[0:2])"
   ]
  },
  {
   "cell_type": "code",
   "execution_count": 6,
   "id": "5a9a092a",
   "metadata": {},
   "outputs": [],
   "source": [
    "train_dataset = train_dataset.map(one_hot_label, num_parallel_calls=AUTOTUNE)\n",
    "test_dataset = test_dataset.map(one_hot_label, num_parallel_calls=AUTOTUNE)"
   ]
  },
  {
   "cell_type": "code",
   "execution_count": 7,
   "id": "a372cbc1",
   "metadata": {},
   "outputs": [
    {
     "name": "stdout",
     "output_type": "stream",
     "text": [
      "Model: \"sequential\"\n",
      "_________________________________________________________________\n",
      "Layer (type)                 Output Shape              Param #   \n",
      "=================================================================\n",
      "vgg16 (Functional)           (None, 6, 5, 512)         14714688  \n",
      "_________________________________________________________________\n",
      "flatten (Flatten)            (None, 15360)             0         \n",
      "_________________________________________________________________\n",
      "dense (Dense)                (None, 4096)              62918656  \n",
      "_________________________________________________________________\n",
      "dense_1 (Dense)              (None, 4096)              16781312  \n",
      "_________________________________________________________________\n",
      "dense_2 (Dense)              (None, 2)                 8194      \n",
      "=================================================================\n",
      "Total params: 94,422,850\n",
      "Trainable params: 79,708,162\n",
      "Non-trainable params: 14,714,688\n",
      "_________________________________________________________________\n"
     ]
    }
   ],
   "source": [
    "vgg = keras.applications.VGG16(\n",
    "        include_top=False,\n",
    "        input_shape=input_shape,\n",
    "        pooling=max)\n",
    "\n",
    "vgg.trainable = False\n",
    "\n",
    "model = keras.models.Sequential([\n",
    "    vgg,\n",
    "    layers.Flatten(),\n",
    "    layers.Dense(4096, activation='relu'),\n",
    "    layers.Dense(4096, activation='relu'),\n",
    "    layers.Dense(num_classes, activation='softmax'),\n",
    "])\n",
    "\n",
    "model.summary()"
   ]
  },
  {
   "cell_type": "code",
   "execution_count": 8,
   "id": "ec706648",
   "metadata": {},
   "outputs": [
    {
     "name": "stdout",
     "output_type": "stream",
     "text": [
      "Epoch 1/30\n",
      "81/81 [==============================] - 42s 381ms/step - loss: 5.7252 - accuracy: 0.6327 - val_loss: 1.0301 - val_accuracy: 0.6403\n",
      "Epoch 2/30\n",
      "81/81 [==============================] - 24s 291ms/step - loss: 0.6224 - accuracy: 0.7249 - val_loss: 0.7453 - val_accuracy: 0.6998\n",
      "Epoch 3/30\n",
      "81/81 [==============================] - 24s 292ms/step - loss: 0.3945 - accuracy: 0.8387 - val_loss: 0.7772 - val_accuracy: 0.6927\n",
      "Epoch 4/30\n",
      "81/81 [==============================] - 24s 295ms/step - loss: 0.3193 - accuracy: 0.9067 - val_loss: 0.8529 - val_accuracy: 0.7506\n",
      "Epoch 5/30\n",
      "81/81 [==============================] - 24s 295ms/step - loss: 0.2334 - accuracy: 0.9420 - val_loss: 1.3665 - val_accuracy: 0.7013\n",
      "Epoch 6/30\n",
      "81/81 [==============================] - 25s 304ms/step - loss: 0.2074 - accuracy: 0.9619 - val_loss: 2.0565 - val_accuracy: 0.6575\n",
      "Epoch 7/30\n",
      "81/81 [==============================] - 25s 307ms/step - loss: 0.2945 - accuracy: 0.9527 - val_loss: 1.2896 - val_accuracy: 0.7162\n",
      "Epoch 8/30\n",
      "81/81 [==============================] - 25s 305ms/step - loss: 0.2257 - accuracy: 0.9627 - val_loss: 1.2685 - val_accuracy: 0.7248\n",
      "Epoch 9/30\n",
      "81/81 [==============================] - 24s 298ms/step - loss: 0.2803 - accuracy: 0.9594 - val_loss: 1.2648 - val_accuracy: 0.7490\n",
      "Epoch 10/30\n",
      "81/81 [==============================] - 25s 304ms/step - loss: 0.2567 - accuracy: 0.9682 - val_loss: 1.2627 - val_accuracy: 0.7514\n",
      "Epoch 11/30\n",
      "81/81 [==============================] - 25s 306ms/step - loss: 0.4007 - accuracy: 0.9643 - val_loss: 1.4108 - val_accuracy: 0.7154\n",
      "Epoch 12/30\n",
      "81/81 [==============================] - 25s 304ms/step - loss: 0.1397 - accuracy: 0.9807 - val_loss: 1.6587 - val_accuracy: 0.7475\n",
      "Epoch 13/30\n",
      "81/81 [==============================] - 25s 307ms/step - loss: 0.5840 - accuracy: 0.9666 - val_loss: 1.7846 - val_accuracy: 0.7091\n",
      "Epoch 14/30\n",
      "81/81 [==============================] - 25s 307ms/step - loss: 0.5132 - accuracy: 0.9705 - val_loss: 1.5727 - val_accuracy: 0.7248\n",
      "Epoch 15/30\n",
      "81/81 [==============================] - 25s 304ms/step - loss: 0.2366 - accuracy: 0.9811 - val_loss: 1.6581 - val_accuracy: 0.7608\n",
      "Epoch 16/30\n",
      "81/81 [==============================] - 25s 310ms/step - loss: 0.4752 - accuracy: 0.9709 - val_loss: 2.1841 - val_accuracy: 0.7334\n",
      "Epoch 17/30\n",
      "81/81 [==============================] - 25s 310ms/step - loss: 0.2188 - accuracy: 0.9844 - val_loss: 1.7355 - val_accuracy: 0.7615\n",
      "Epoch 18/30\n",
      "81/81 [==============================] - 25s 310ms/step - loss: 0.5360 - accuracy: 0.9690 - val_loss: 1.7102 - val_accuracy: 0.7529\n",
      "Epoch 19/30\n",
      "81/81 [==============================] - 25s 310ms/step - loss: 5.5209e-04 - accuracy: 1.0000 - val_loss: 2.1223 - val_accuracy: 0.7756\n",
      "Epoch 20/30\n",
      "81/81 [==============================] - 25s 310ms/step - loss: 0.5640 - accuracy: 0.9695 - val_loss: 1.8805 - val_accuracy: 0.7623\n",
      "Epoch 21/30\n",
      "81/81 [==============================] - 25s 310ms/step - loss: 0.4754 - accuracy: 0.9711 - val_loss: 1.8038 - val_accuracy: 0.7475\n",
      "Epoch 22/30\n",
      "81/81 [==============================] - 25s 311ms/step - loss: 0.4208 - accuracy: 0.9830 - val_loss: 2.3403 - val_accuracy: 0.7396\n",
      "Epoch 23/30\n",
      "81/81 [==============================] - 25s 311ms/step - loss: 0.3317 - accuracy: 0.9891 - val_loss: 2.1263 - val_accuracy: 0.7490\n",
      "Epoch 24/30\n",
      "81/81 [==============================] - 25s 311ms/step - loss: 0.2347 - accuracy: 0.9842 - val_loss: 2.3917 - val_accuracy: 0.7568\n",
      "Epoch 25/30\n",
      "81/81 [==============================] - 25s 311ms/step - loss: 0.4110 - accuracy: 0.9846 - val_loss: 2.8894 - val_accuracy: 0.7412\n",
      "Epoch 26/30\n",
      "81/81 [==============================] - 25s 313ms/step - loss: 6.8390e-06 - accuracy: 1.0000 - val_loss: 3.0813 - val_accuracy: 0.7584\n",
      "Epoch 27/30\n",
      "81/81 [==============================] - 25s 310ms/step - loss: 0.8773 - accuracy: 0.9773 - val_loss: 4.4839 - val_accuracy: 0.6880\n",
      "Epoch 28/30\n",
      "81/81 [==============================] - 25s 312ms/step - loss: 0.0191 - accuracy: 0.9973 - val_loss: 2.7256 - val_accuracy: 0.7498\n",
      "Epoch 29/30\n",
      "81/81 [==============================] - 25s 311ms/step - loss: 0.3222 - accuracy: 0.9897 - val_loss: 3.5406 - val_accuracy: 0.7193\n",
      "Epoch 30/30\n",
      "81/81 [==============================] - 25s 311ms/step - loss: 1.1873e-04 - accuracy: 1.0000 - val_loss: 3.2219 - val_accuracy: 0.7662\n"
     ]
    }
   ],
   "source": [
    "epochs = 30\n",
    "model.compile(loss=\"binary_crossentropy\",\n",
    "              optimizer=keras.optimizers.RMSprop(learning_rate=0.0001),\n",
    "              metrics=[\"accuracy\"])\n",
    "\n",
    "history = model.fit(train_dataset, epochs=epochs, validation_data=test_dataset)"
   ]
  },
  {
   "cell_type": "code",
   "execution_count": null,
   "id": "c455d000",
   "metadata": {},
   "outputs": [],
   "source": [
    "plt.title('VGG16 Transfer Learning Accuracy')\n",
    "\n",
    "plt.plot(history.history['accuracy'], label = \"training acc.\")\n",
    "plt.plot(history.history['val_accuracy'], label = \"validation acc.\")\n",
    "plt.ylabel('accuracy')\n",
    "plt.xlabel('epoch')\n",
    "plt.legend(['training acc.', 'validation acc.'], loc='upper left')\n",
    "\n",
    "plt.savefig(\"../Project/Result/VGG16_MODEL_ACCURACY\")\n",
    "plt.show()\n"
   ]
  },
  {
   "cell_type": "code",
   "execution_count": null,
   "id": "4583d1cc",
   "metadata": {},
   "outputs": [],
   "source": []
  }
 ],
 "metadata": {
  "kernelspec": {
   "display_name": "Python 3 (ipykernel)",
   "language": "python",
   "name": "python3"
  },
  "language_info": {
   "codemirror_mode": {
    "name": "ipython",
    "version": 3
   },
   "file_extension": ".py",
   "mimetype": "text/x-python",
   "name": "python",
   "nbconvert_exporter": "python",
   "pygments_lexer": "ipython3",
   "version": "3.8.12"
  }
 },
 "nbformat": 4,
 "nbformat_minor": 5
}

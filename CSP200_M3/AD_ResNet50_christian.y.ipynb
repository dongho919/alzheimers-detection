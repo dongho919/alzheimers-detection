{
 "cells": [
  {
   "cell_type": "code",
   "execution_count": 10,
   "id": "4681c80d",
   "metadata": {},
   "outputs": [],
   "source": [
    "#imports\n",
    "import tensorflow as tf\n",
    "import tensorflow_datasets as tfds\n",
    "from tensorflow import keras\n",
    "import numpy as np\n",
    "import matplotlib.pyplot as plt\n",
    "from tensorflow.keras import layers\n",
    "from keras.preprocessing.image import img_to_array, array_to_img\n",
    "import pathlib\n",
    "\n",
    "from tensorflow.python.keras.models import Sequential\n",
    "from tensorflow.python.keras.layers import Dense\n"
   ]
  },
  {
   "cell_type": "code",
   "execution_count": 11,
   "id": "a72a340e",
   "metadata": {},
   "outputs": [],
   "source": [
    "class_names = ['NonDemented', 'Demented']\n",
    "num_classes = len(class_names)\n",
    "batch_size = 64\n",
    "input_shape = (176, 208, 3)\n",
    "AUTOTUNE = tf.data.experimental.AUTOTUNE\n",
    "\n",
    "def one_hot_label(image, label):\n",
    "    label = tf.one_hot(label, num_classes)\n",
    "    return image, label"
   ]
  },
  {
   "cell_type": "code",
   "execution_count": 12,
   "id": "e089a950",
   "metadata": {},
   "outputs": [],
   "source": [
    "#Non flipped images\n",
    "#train_dir = pathlib.Path('../Project/Alzheimer_s Dataset_binary/train')\n",
    "#test_dir = pathlib.Path('../Project/Alzheimer_s Dataset_binary/test')\n",
    "#\n",
    "#train_dataset = tf.keras.utils.image_dataset_from_directory(\n",
    "#        train_dir,\n",
    "#        labels='inferred',\n",
    "#        class_names=class_names,\n",
    "#        batch_size=batch_size,\n",
    "#        image_size=input_shape[0:2])\n",
    "#\n",
    "#test_dataset = tf.keras.utils.image_dataset_from_directory(\n",
    "#        test_dir,\n",
    "#        labels='inferred',\n",
    "#        class_names=class_names,\n",
    "#        batch_size=batch_size,\n",
    "#        image_size=input_shape[0:2])\n",
    "#\n",
    "#for images, labels, in train_dataset.take(1):\n",
    "#    plt.imshow(images[0].numpy().astype('uint8'))\n",
    "#    plt.title(class_names[labels[0]])\n",
    "#    \n",
    "#train_dataset = train_dataset.map(one_hot_label, num_parallel_calls=AUTOTUNE)\n",
    "#test_dataset = test_dataset.map(one_hot_label, num_parallel_calls=AUTOTUNE)"
   ]
  },
  {
   "cell_type": "code",
   "execution_count": 13,
   "id": "5ed2bd90",
   "metadata": {},
   "outputs": [
    {
     "name": "stdout",
     "output_type": "stream",
     "text": [
      "Found 5121 images belonging to 2 classes.\n",
      "Found 1279 images belonging to 2 classes.\n"
     ]
    }
   ],
   "source": [
    "######################## deprecated ########################\n",
    "\n",
    "train_dir = pathlib.Path('../Project/Alzheimer_s Dataset_binary/train')\n",
    "test_dir = pathlib.Path('../Project/Alzheimer_s Dataset_binary/test')\n",
    "\n",
    "datagen = keras.preprocessing.image.ImageDataGenerator(horizontal_flip=True,\n",
    "                                                       #rotation_range=10,\n",
    "                                                       rescale=1./255\n",
    "                                                       #brightness_range=(0.8,1.1),\n",
    "                                                       #zoom_range=0.2,\n",
    "                                                       #width_shift_range=0.1,\n",
    "                                                       #height_shift_range=0.1\n",
    "                                                      )\n",
    "\n",
    "simple_datagen = keras.preprocessing.image.ImageDataGenerator(rescale=1./255)\n",
    "\n",
    "train_generator = datagen.flow_from_directory(\n",
    "        train_dir,\n",
    "        classes=class_names,\n",
    "        class_mode='categorical',\n",
    "        shuffle=True,\n",
    "        batch_size=batch_size,\n",
    "        target_size=input_shape[0:2])\n",
    "\n",
    "test_generator = simple_datagen.flow_from_directory(\n",
    "        test_dir,\n",
    "        classes=class_names,\n",
    "        class_mode='categorical',\n",
    "        shuffle=True,\n",
    "        batch_size=batch_size,\n",
    "        target_size=input_shape[0:2])"
   ]
  },
  {
   "cell_type": "code",
   "execution_count": 28,
   "id": "e47f70a8",
   "metadata": {},
   "outputs": [],
   "source": [
    "input_t = keras.Input(shape=input_shape)\n",
    "         \n",
    "         \n",
    "ResNet = keras.applications.ResNet50(\n",
    "        include_top=False,\n",
    "        input_tensor=input_t,\n",
    "        pooling=max)\n",
    "\n",
    "for layers in ResNet.layers[:]:\n",
    "    layers.trainable = False\n",
    "\n",
    "model = keras.models.Sequential()\n",
    "model.add(ResNet)\n",
    "\n",
    "model.add(keras.layers.BatchNormalization())\n",
    "model.add(keras.layers.Dense(128, activation='relu'))\n",
    "model.add(keras.layers.BatchNormalization())\n",
    "model.add(keras.layers.Dense(64, activation='relu'))\n",
    "model.add(tf.keras.layers.Dropout(0.5))\n",
    "model.add(keras.layers.Dense(32, activation='relu'))\n",
    "\n",
    "model.add(tf.keras.layers.Dropout(0.6))\n",
    "\n",
    "model.add(keras.layers.Flatten())\n",
    "model.add(keras.layers.BatchNormalization())\n",
    "model.add(keras.layers.Dense(2,activation=\"softmax\"))"
   ]
  },
  {
   "cell_type": "code",
   "execution_count": 29,
   "id": "c44d0472",
   "metadata": {
    "scrolled": false
   },
   "outputs": [
    {
     "name": "stdout",
     "output_type": "stream",
     "text": [
      "Epoch 1/30\n",
      "81/81 [==============================] - 17s 159ms/step - loss: 0.8072 - accuracy: 0.5507 - val_loss: 0.6832 - val_accuracy: 0.6247\n",
      "Epoch 2/30\n",
      "81/81 [==============================] - 12s 145ms/step - loss: 0.7132 - accuracy: 0.6171 - val_loss: 0.6709 - val_accuracy: 0.6247\n",
      "Epoch 3/30\n",
      "81/81 [==============================] - 12s 143ms/step - loss: 0.6927 - accuracy: 0.6274 - val_loss: 0.6812 - val_accuracy: 0.5113\n",
      "Epoch 4/30\n",
      "81/81 [==============================] - 12s 144ms/step - loss: 0.6567 - accuracy: 0.6518 - val_loss: 0.6557 - val_accuracy: 0.6411\n",
      "Epoch 5/30\n",
      "81/81 [==============================] - 12s 143ms/step - loss: 0.6295 - accuracy: 0.6659 - val_loss: 0.6724 - val_accuracy: 0.5465\n",
      "Epoch 6/30\n",
      "81/81 [==============================] - 12s 144ms/step - loss: 0.6218 - accuracy: 0.6671 - val_loss: 0.6343 - val_accuracy: 0.6513\n",
      "Epoch 7/30\n",
      "81/81 [==============================] - 12s 144ms/step - loss: 0.6106 - accuracy: 0.6798 - val_loss: 0.6244 - val_accuracy: 0.6521\n",
      "Epoch 8/30\n",
      "81/81 [==============================] - 12s 144ms/step - loss: 0.5960 - accuracy: 0.6872 - val_loss: 0.8269 - val_accuracy: 0.5285\n",
      "Epoch 9/30\n",
      "81/81 [==============================] - 12s 144ms/step - loss: 0.5832 - accuracy: 0.7036 - val_loss: 0.6246 - val_accuracy: 0.6489\n",
      "Epoch 10/30\n",
      "81/81 [==============================] - 12s 145ms/step - loss: 0.5737 - accuracy: 0.6965 - val_loss: 0.6275 - val_accuracy: 0.6380\n",
      "Epoch 11/30\n",
      "81/81 [==============================] - 12s 144ms/step - loss: 0.5724 - accuracy: 0.7016 - val_loss: 0.6238 - val_accuracy: 0.6513\n",
      "Epoch 12/30\n",
      "81/81 [==============================] - 12s 145ms/step - loss: 0.5819 - accuracy: 0.6981 - val_loss: 0.6170 - val_accuracy: 0.6536\n",
      "Epoch 13/30\n",
      "81/81 [==============================] - 12s 144ms/step - loss: 0.5628 - accuracy: 0.7161 - val_loss: 0.7735 - val_accuracy: 0.5567\n",
      "Epoch 14/30\n",
      "81/81 [==============================] - 12s 145ms/step - loss: 0.5737 - accuracy: 0.7008 - val_loss: 0.6138 - val_accuracy: 0.6568\n",
      "Epoch 15/30\n",
      "81/81 [==============================] - 12s 145ms/step - loss: 0.5550 - accuracy: 0.7190 - val_loss: 0.6376 - val_accuracy: 0.6427\n",
      "Epoch 16/30\n",
      "81/81 [==============================] - 12s 145ms/step - loss: 0.5492 - accuracy: 0.7198 - val_loss: 0.6772 - val_accuracy: 0.5856\n",
      "Epoch 17/30\n",
      "81/81 [==============================] - 12s 144ms/step - loss: 0.5539 - accuracy: 0.7167 - val_loss: 0.6646 - val_accuracy: 0.6302\n",
      "Epoch 18/30\n",
      "81/81 [==============================] - 12s 145ms/step - loss: 0.5430 - accuracy: 0.7225 - val_loss: 0.7032 - val_accuracy: 0.6130\n",
      "Epoch 19/30\n",
      "81/81 [==============================] - 12s 144ms/step - loss: 0.5504 - accuracy: 0.7169 - val_loss: 0.8802 - val_accuracy: 0.5590\n",
      "Epoch 20/30\n",
      "81/81 [==============================] - 12s 144ms/step - loss: 0.5460 - accuracy: 0.7252 - val_loss: 0.6443 - val_accuracy: 0.6169\n",
      "Epoch 21/30\n",
      "81/81 [==============================] - 12s 146ms/step - loss: 0.5288 - accuracy: 0.7317 - val_loss: 0.6486 - val_accuracy: 0.6443\n",
      "Epoch 22/30\n",
      "81/81 [==============================] - 12s 145ms/step - loss: 0.5499 - accuracy: 0.7295 - val_loss: 0.6238 - val_accuracy: 0.6599\n",
      "Epoch 23/30\n",
      "81/81 [==============================] - 12s 143ms/step - loss: 0.5754 - accuracy: 0.7098 - val_loss: 0.6445 - val_accuracy: 0.6185\n",
      "Epoch 24/30\n",
      "81/81 [==============================] - 12s 144ms/step - loss: 0.5467 - accuracy: 0.7247 - val_loss: 0.6282 - val_accuracy: 0.6458\n",
      "Epoch 25/30\n",
      "81/81 [==============================] - 12s 145ms/step - loss: 0.5184 - accuracy: 0.7497 - val_loss: 0.6486 - val_accuracy: 0.6294\n",
      "Epoch 26/30\n",
      "81/81 [==============================] - 12s 144ms/step - loss: 0.5195 - accuracy: 0.7385 - val_loss: 0.6597 - val_accuracy: 0.6474\n",
      "Epoch 27/30\n",
      "81/81 [==============================] - 12s 144ms/step - loss: 0.5159 - accuracy: 0.7512 - val_loss: 0.6462 - val_accuracy: 0.6474\n",
      "Epoch 28/30\n",
      "81/81 [==============================] - 12s 145ms/step - loss: 0.5048 - accuracy: 0.7508 - val_loss: 0.6677 - val_accuracy: 0.6294\n",
      "Epoch 29/30\n",
      "81/81 [==============================] - 12s 143ms/step - loss: 0.5160 - accuracy: 0.7428 - val_loss: 0.6736 - val_accuracy: 0.6091\n",
      "Epoch 30/30\n",
      "81/81 [==============================] - 12s 146ms/step - loss: 0.5220 - accuracy: 0.7376 - val_loss: 0.6849 - val_accuracy: 0.5809\n"
     ]
    }
   ],
   "source": [
    "epochs = 30\n",
    "model.compile(loss=\"binary_crossentropy\",\n",
    "              optimizer=\"adam\",\n",
    "              metrics=[\"accuracy\"])\n",
    " \n",
    "history = model.fit(train_generator, epochs=epochs,validation_data=test_generator)"
   ]
  },
  {
   "cell_type": "markdown",
   "id": "aba27a97",
   "metadata": {},
   "source": []
  },
  {
   "cell_type": "code",
   "execution_count": 147,
   "id": "f479154e",
   "metadata": {},
   "outputs": [
    {
     "name": "stdout",
     "output_type": "stream",
     "text": [
      "Test loss: 2.1780221462249756\n",
      "Test accuracy 0.5652853846549988\n"
     ]
    }
   ],
   "source": [
    "score = model.evaluate(test_dataset,verbose=0)\n",
    "print(\"Test loss:\",score[0])\n",
    "print(\"Test accuracy\", score[1])"
   ]
  },
  {
   "cell_type": "code",
   "execution_count": 149,
   "id": "1383ab22",
   "metadata": {},
   "outputs": [
    {
     "data": {
      "image/png": "[encoded data removed]",
      "text/plain": [
       "<Figure size 432x288 with 1 Axes>"
      ]
     },
     "metadata": {
      "needs_background": "light"
     },
     "output_type": "display_data"
    }
   ],
   "source": [
    "plt.title('ResNet-50 Transfer Learning Accuracy')\n",
    "\n",
    "plt.plot(history.history['accuracy'], label = \"training acc.\")\n",
    "plt.plot(history.history['val_accuracy'], label = \"validation acc.\")\n",
    "plt.ylabel('accuracy')\n",
    "plt.xlabel('epoch')\n",
    "plt.legend(['training acc.', 'validation acc.'], loc='upper left')\n",
    "\n",
    "#plt.savefig(\"../Project/Result/RESET2_MODEL_ACCURACY\")\n",
    "plt.show()"
   ]
  },
  {
   "cell_type": "code",
   "execution_count": null,
   "id": "6d9fb96e",
   "metadata": {},
   "outputs": [],
   "source": []
  }
 ],
 "metadata": {
  "interpreter": {
   "hash": "a9d483a5da12a58946c73343cc0da08bfb96a77cd47f9a46101aafa67738b87d"
  },
  "kernelspec": {
   "display_name": "Python 3",
   "language": "python",
   "name": "python3"
  },
  "language_info": {
   "codemirror_mode": {
    "name": "ipython",
    "version": 3
   },
   "file_extension": ".py",
   "mimetype": "text/x-python",
   "name": "python",
   "nbconvert_exporter": "python",
   "pygments_lexer": "ipython3",
   "version": "3.8.8"
  }
 },
 "nbformat": 4,
 "nbformat_minor": 5
}

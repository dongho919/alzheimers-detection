{
 "cells": [
  {
   "cell_type": "code",
   "execution_count": 54,
   "id": "b80fc601",
   "metadata": {},
   "outputs": [],
   "source": [
    "import numpy as np\n",
    "import png\n",
    "import os\n",
    "import nibabel as nib\n",
    "from matplotlib import pyplot as pl\n",
    "import matplotlib\n",
    "import math\n",
    "import csv\n",
    "import cv2\n",
    "from tensorflow import keras\n",
    "import tensorflow as tf\n",
    "import sys\n",
    "import statistics as stats"
   ]
  },
  {
   "cell_type": "code",
   "execution_count": 55,
   "id": "8a988b65",
   "metadata": {},
   "outputs": [],
   "source": [
    "use_layer_selector = True"
   ]
  },
  {
   "cell_type": "code",
   "execution_count": 113,
   "id": "00b83a68",
   "metadata": {},
   "outputs": [],
   "source": [
    "#sift = cv2.SIFT_create()\n",
    "#bf = cv2.BFMatcher(cv2.NORM_L1, crossCheck=True)\n",
    "#sample_img = cv2.imread('sample_brain.png')\n",
    "#keypoints_0, descriptors_0 = sift.detectAndCompute(sample_img, None)\n",
    "\n",
    "model = keras.models.load_model('Brain Layer Selector')\n",
    "\n",
    "# input_folder = folder that contains the .nii file\n",
    "# output_folder = folder that the .png file will be saved in\n",
    "def nii_to_png(input_folder, output_folder, axis):\n",
    "    filenames = os.listdir(input_folder)\n",
    "    for f in filenames:\n",
    "        if f.endswith('.nii'):\n",
    "            #Start reading nii files\n",
    "            img_path = os.path.join(input_folder, f)\n",
    "            img = nib.load(img_path) #read nii            \n",
    "            img_fdata = img.get_fdata()\n",
    "            fname = filename[ filename.rfind('_')+1 : filename.find('.nii') ]\n",
    "            \n",
    "            input_shape = model.get_config()[\"layers\"][0][\"config\"][\"batch_input_shape\"][1:3]\n",
    "            (x,y,z) = img.shape\n",
    "            if axis == 0:\n",
    "                num_layers = x\n",
    "            elif axis == 1:\n",
    "                num_layers = y\n",
    "            else:\n",
    "                num_layers = z\n",
    "            candidate_layers = []\n",
    "            for i in range(int(0.25*num_layers), int(0.65*num_layers), 2): #x is the sequence of images\n",
    "                if axis == 0:\n",
    "                    slice = img_fdata[i, :, :] # cut perpendicular to the x axis\n",
    "                elif axis == 1:\n",
    "                    slice = img_fdata[:, i, :] # cut perpendicular to the y axis\n",
    "                else:\n",
    "                    slice = img_fdata[:, :, i] # cut perpendicular to the z axis\n",
    "                    slice = np.rot90(slice)\n",
    "                slice = cv2.resize(slice, dsize=input_shape) # set image size to 224x224\n",
    "                slice = np.reshape(slice, (*slice.shape, 1)) # add an additional axis for concat\n",
    "                slice /= np.max(slice)\n",
    "                slice = np.concatenate((slice, slice, slice), axis=2) # concat 3 identical images (RGB channels)\n",
    "                \n",
    "                if use_layer_selector:\n",
    "                    slice = slice[np.newaxis is None, :, :, :]\n",
    "        \n",
    "                    prediction = model.predict_step(slice).numpy()[0]\n",
    "                    if prediction[0] > prediction[1]:\n",
    "                        candidate_layers.append(slice)\n",
    "                        \n",
    "                else:\n",
    "                    matplotlib.image.imsave(\n",
    "                        os.path.join(output_folder,'{}-{}.png'.format(fname, i)), slice[0,:,:,:])\n",
    "            \n",
    "            if use_layer_selector:\n",
    "                if len(candidate_layers) > 0:\n",
    "                    layer = candidate_layers[ int(len(candidate_layers) / 2.5) ][0,:,:,:]\n",
    "                else:\n",
    "                    if axis == 0:\n",
    "                        layer = img_fdata[int(0.33*x), :, :] # cut perpendicular to the x axis\n",
    "                    elif axis == 1:\n",
    "                        layer = img_fdata[:, int(0.33*y), :] # cut perpendicular to the y axis\n",
    "                    else:\n",
    "                        if fname == 'I275428':\n",
    "                            layer = img_fdata[:, :, int(0.66*z)] # cut perpendicular to the z axis\n",
    "                        else:\n",
    "                            layer = img_fdata[:, :, int(0.33*z)] # cut perpendicular to the z axis\n",
    "                        layer = np.rot90(layer)\n",
    "                    layer = cv2.resize(layer, dsize=input_shape) # set image size to 224x224\n",
    "                    layer = np.reshape(layer, (*layer.shape, 1)) # add an additional axis for concat\n",
    "                    layer /= np.max(layer)\n",
    "                    layer = np.concatenate((layer, layer, layer), axis=2) # concat 3 identical images (RGB channels)\n",
    "                \n",
    "                matplotlib.image.imsave(\n",
    "                    os.path.join(output_folder,'{}.png'.format(fname)), layer)\n",
    "                \n",
    "            print(fname)"
   ]
  },
  {
   "cell_type": "code",
   "execution_count": 114,
   "id": "1d93ffc2",
   "metadata": {},
   "outputs": [],
   "source": [
    "#for i in range(int(0.2*x), int(0.8*x), 2): #x is the sequence of images\n",
    "#                slice = img_fdata[i, :, :] #Select which direction the slice can be\n",
    "#                slice = np.reshape(slice, (*slice.shape, 1))\n",
    "#                slice = np.concatenate((slice, slice, slice), axis=2)\n",
    "                #slice = slice*255\n",
    "                #slice = slice.astype('uint8')\n",
    "                #keypoints_1, descriptors_1 = sift.detectAndCompute(slice, None)\n",
    "                #matches = bf.match(descriptors_0, descriptors_1)\n",
    "                #distance = 0\n",
    "                #for m in matches:\n",
    "                #    distance += m.distance\n",
    "                \n",
    "                #if min_sift_val > distance:\n",
    "                #    layer_at_min = i\n",
    "                #    min_sift_val = distance\n",
    "#            matplotlib.image.imsave(\n",
    "#                os.path.join(output_folder,'{}-{}.png'.format(fname, layer_at_min)),\n",
    "#                img_fdata[layer_at_min, :, :])"
   ]
  },
  {
   "cell_type": "code",
   "execution_count": 120,
   "id": "5e107228",
   "metadata": {
    "scrolled": true
   },
   "outputs": [],
   "source": [
    "input_folder = 'D:\\\\ADNI1_Complete 1Yr 1.5T'\n",
    "output_folder = 'D:\\\\ADNI_PNG_separate'\n",
    "metadata = 'D:\\\\ADNI1_Complete_1Yr_1.5T_1_26_2022.csv'\n",
    "\n",
    "# use the csv metadata to correctly categorize the patients into CN, MCI, AD\n",
    "img_group_dict = {}\n",
    "# image groups: cognitively normal, mild cognitive impairment, Alzheimer's disease\n",
    "group_folder_dict = {'CN':'NonDemented', 'MCI':'Demented', 'AD':'Demented'}\n",
    "with open(metadata, newline='') as csvfile:\n",
    "    reader = csv.DictReader(csvfile, delimiter=',', quotechar='\\\"')\n",
    "    for row in reader:\n",
    "        # this dictionary will be used to find what group (output folder) \n",
    "        # a patient belongs to\n",
    "        img_group_dict[ row['Image Data ID'] ] = row['Group']\n",
    "\n",
    "if not os.path.exists(output_folder):\n",
    "    os.makedirs(output_folder)\n",
    "\n",
    "# create subfolders in the output folder\n",
    "for group in group_folder_dict:\n",
    "    subfolder = os.path.join(output_folder, group_folder_dict[group])\n",
    "    # put the generated subfolder directory in the dictionary for image export purposes\n",
    "    group_folder_dict[group] = subfolder\n",
    "    if not os.path.exists(subfolder):\n",
    "        os.makedirs(subfolder)\n"
   ]
  },
  {
   "cell_type": "code",
   "execution_count": 121,
   "id": "1cc18709",
   "metadata": {
    "scrolled": false
   },
   "outputs": [
    {
     "name": "stdout",
     "output_type": "stream",
     "text": [
      "I134505\n"
     ]
    }
   ],
   "source": [
    "#vgg19 = keras.models.load_model('Brain Layer Selector')\n",
    "axes = ((),\n",
    "        ('I134505', 'I133465', 'I133472', 'I133494', 'I133406', 'I133373', 'I133151', 'I133486'),\n",
    "        ('I288891', 'I288892', 'I288900', 'I288901', 'I288902', 'I288917', 'I288918', 'I288924',\n",
    "         'I288933', 'I288934', 'I296799', 'I296800', 'I296803', 'I296804', 'I299371', 'I299374',\n",
    "         'I300285', 'I300286', 'I275427', 'I275428', 'I288893', 'I288894', 'I288903', 'I288904',\n",
    "         'I296812', 'I296813', 'I312665', 'I312666'))\n",
    "\n",
    "axis = 1\n",
    "\n",
    "for root, dirnames, filenames in os.walk(input_folder):\n",
    "    # no more subdirectories; we are looking at a folder with a .nii file\n",
    "    img_id = root[ root.rfind('\\\\')+1 :]\n",
    "    if len(dirnames) == 0 and (axis == 0 or img_id in axes[axis]):\n",
    "        filename = filenames[0] # there's only one file in the folder so just pick it\n",
    "        group = img_group_dict[img_id]\n",
    "        #print(img_id, group, sep=', ')\n",
    "        nii_to_png(root, group_folder_dict[group], axis)"
   ]
  },
  {
   "cell_type": "code",
   "execution_count": null,
   "id": "bbd1b3b5",
   "metadata": {},
   "outputs": [],
   "source": []
  }
 ],
 "metadata": {
  "kernelspec": {
   "display_name": "Python 3 (ipykernel)",
   "language": "python",
   "name": "python3"
  },
  "language_info": {
   "codemirror_mode": {
    "name": "ipython",
    "version": 3
   },
   "file_extension": ".py",
   "mimetype": "text/x-python",
   "name": "python",
   "nbconvert_exporter": "python",
   "pygments_lexer": "ipython3",
   "version": "3.8.12"
  }
 },
 "nbformat": 4,
 "nbformat_minor": 5
}

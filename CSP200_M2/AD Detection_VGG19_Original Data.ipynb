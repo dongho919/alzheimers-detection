{
 "cells": [
  {
   "cell_type": "code",
   "execution_count": 1,
   "id": "f509f3e4",
   "metadata": {},
   "outputs": [
    {
     "ename": "ImportError",
     "evalue": "cannot import name 'layers' from 'tensorflow.keras' (unknown location)",
     "output_type": "error",
     "traceback": [
      "\u001b[1;31m---------------------------------------------------------------------------\u001b[0m",
      "\u001b[1;31mImportError\u001b[0m                               Traceback (most recent call last)",
      "\u001b[1;32m<ipython-input-1-deda17387782>\u001b[0m in \u001b[0;36m<module>\u001b[1;34m\u001b[0m\n\u001b[0;32m      5\u001b[0m \u001b[1;32mimport\u001b[0m \u001b[0mnumpy\u001b[0m \u001b[1;32mas\u001b[0m \u001b[0mnp\u001b[0m\u001b[1;33m\u001b[0m\u001b[1;33m\u001b[0m\u001b[0m\n\u001b[0;32m      6\u001b[0m \u001b[1;32mimport\u001b[0m \u001b[0mmatplotlib\u001b[0m\u001b[1;33m.\u001b[0m\u001b[0mpyplot\u001b[0m \u001b[1;32mas\u001b[0m \u001b[0mplt\u001b[0m\u001b[1;33m\u001b[0m\u001b[1;33m\u001b[0m\u001b[0m\n\u001b[1;32m----> 7\u001b[1;33m \u001b[1;32mfrom\u001b[0m \u001b[0mtensorflow\u001b[0m\u001b[1;33m.\u001b[0m\u001b[0mkeras\u001b[0m \u001b[1;32mimport\u001b[0m \u001b[0mlayers\u001b[0m\u001b[1;33m\u001b[0m\u001b[1;33m\u001b[0m\u001b[0m\n\u001b[0m\u001b[0;32m      8\u001b[0m \u001b[1;32mimport\u001b[0m \u001b[0mpathlib\u001b[0m\u001b[1;33m\u001b[0m\u001b[1;33m\u001b[0m\u001b[0m\n",
      "\u001b[1;31mImportError\u001b[0m: cannot import name 'layers' from 'tensorflow.keras' (unknown location)"
     ]
    }
   ],
   "source": [
    "#imports\n",
    "\n",
    "import tensorflow as tf\n",
    "from tensorflow import keras\n",
    "import numpy as np\n",
    "import matplotlib.pyplot as plt\n",
    "from tensorflow.keras import layers\n",
    "import pathlib"
   ]
  },
  {
   "cell_type": "code",
   "execution_count": null,
   "id": "597bd46e",
   "metadata": {},
   "outputs": [],
   "source": [
    "class_names = ['NonDemented', 'Demented']\n",
    "num_classes = len(class_names)\n",
    "batch_size = 32\n",
    "input_shape = (208, 176, 3)\n",
    "AUTOTUNE = tf.data.experimental.AUTOTUNE\n",
    "\n",
    "def one_hot_label(image, label):\n",
    "    label = tf.one_hot(label, num_classes)\n",
    "    return image, label"
   ]
  },
  {
   "cell_type": "code",
   "execution_count": null,
   "id": "5a9a092a",
   "metadata": {},
   "outputs": [],
   "source": [
    "train_dir = pathlib.Path('../Project/Alzheimer_s Dataset_binary/train')\n",
    "test_dir = pathlib.Path('../Project/Alzheimer_s Dataset_binary/test')\n",
    "\n",
    "train_dataset = tf.keras.utils.image_dataset_from_directory(\n",
    "        train_dir,\n",
    "        labels='inferred',\n",
    "        class_names=class_names,\n",
    "        batch_size=batch_size,\n",
    "        image_size=input_shape[0:2])\n",
    "\n",
    "test_dataset = tf.keras.utils.image_dataset_from_directory(\n",
    "        test_dir,\n",
    "        labels='inferred',\n",
    "        class_names=class_names,\n",
    "        batch_size=batch_size,\n",
    "        image_size=input_shape[0:2])\n",
    "\n",
    "for images, labels, in train_dataset.take(1):\n",
    "    plt.imshow(images[0].numpy().astype('uint8'))\n",
    "    plt.title(class_names[labels[0]])\n",
    "    \n",
    "train_dataset = train_dataset.map(one_hot_label, num_parallel_calls=AUTOTUNE)\n",
    "test_dataset = test_dataset.map(one_hot_label, num_parallel_calls=AUTOTUNE)"
   ]
  },
  {
   "cell_type": "code",
   "execution_count": 1,
   "id": "a372cbc1",
   "metadata": {},
   "outputs": [
    {
     "ename": "NameError",
     "evalue": "name 'keras' is not defined",
     "output_type": "error",
     "traceback": [
      "\u001b[1;31m---------------------------------------------------------------------------\u001b[0m",
      "\u001b[1;31mNameError\u001b[0m                                 Traceback (most recent call last)",
      "\u001b[1;32m<ipython-input-1-b12606945b6d>\u001b[0m in \u001b[0;36m<module>\u001b[1;34m\u001b[0m\n\u001b[1;32m----> 1\u001b[1;33m vgg = keras.applications.VGG19(\n\u001b[0m\u001b[0;32m      2\u001b[0m         \u001b[0minclude_top\u001b[0m\u001b[1;33m=\u001b[0m\u001b[1;32mFalse\u001b[0m\u001b[1;33m,\u001b[0m\u001b[1;33m\u001b[0m\u001b[1;33m\u001b[0m\u001b[0m\n\u001b[0;32m      3\u001b[0m         \u001b[0minput_shape\u001b[0m\u001b[1;33m=\u001b[0m\u001b[0minput_shape\u001b[0m\u001b[1;33m,\u001b[0m\u001b[1;33m\u001b[0m\u001b[1;33m\u001b[0m\u001b[0m\n\u001b[0;32m      4\u001b[0m         pooling=max)\n\u001b[0;32m      5\u001b[0m \u001b[1;33m\u001b[0m\u001b[0m\n",
      "\u001b[1;31mNameError\u001b[0m: name 'keras' is not defined"
     ]
    }
   ],
   "source": [
    "vgg = keras.applications.VGG19(\n",
    "        include_top=False,\n",
    "        input_shape=input_shape,\n",
    "        pooling=max)\n",
    "\n",
    "vgg.trainable = False\n",
    "\n",
    "model = keras.models.Sequential([\n",
    "    vgg,\n",
    "    layers.Flatten(),\n",
    "    layers.Dense(4096, activation='relu'),\n",
    "    layers.Dense(512, activation='relu'),\n",
    "    layers.Dense(num_classes, activation='softmax'),\n",
    "])\n",
    "\n",
    "model.summary()"
   ]
  },
  {
   "cell_type": "code",
   "execution_count": 5,
   "id": "ec706648",
   "metadata": {},
   "outputs": [
    {
     "name": "stdout",
     "output_type": "stream",
     "text": [
      "Epoch 1/30\n",
      "161/161 [==============================] - 47s 225ms/step - loss: 2.8502 - accuracy: 0.6399 - val_loss: 0.7995 - val_accuracy: 0.6927\n",
      "Epoch 2/30\n",
      "161/161 [==============================] - 32s 196ms/step - loss: 0.5557 - accuracy: 0.7766 - val_loss: 0.6056 - val_accuracy: 0.7561\n",
      "Epoch 3/30\n",
      "161/161 [==============================] - 32s 197ms/step - loss: 0.3352 - accuracy: 0.8617 - val_loss: 0.8338 - val_accuracy: 0.7154\n",
      "Epoch 4/30\n",
      "161/161 [==============================] - 32s 197ms/step - loss: 0.2668 - accuracy: 0.9082 - val_loss: 0.5254 - val_accuracy: 0.8069\n",
      "Epoch 5/30\n",
      "161/161 [==============================] - 32s 197ms/step - loss: 0.1773 - accuracy: 0.9483 - val_loss: 0.7227 - val_accuracy: 0.8022\n",
      "Epoch 6/30\n",
      "161/161 [==============================] - 32s 198ms/step - loss: 0.1616 - accuracy: 0.9572 - val_loss: 1.4627 - val_accuracy: 0.7091\n",
      "Epoch 7/30\n",
      "161/161 [==============================] - 32s 198ms/step - loss: 0.2210 - accuracy: 0.9611 - val_loss: 0.9123 - val_accuracy: 0.7897\n",
      "Epoch 8/30\n",
      "161/161 [==============================] - 32s 200ms/step - loss: 0.1901 - accuracy: 0.9656 - val_loss: 0.9664 - val_accuracy: 0.7647\n",
      "Epoch 9/30\n",
      "161/161 [==============================] - 32s 199ms/step - loss: 0.1878 - accuracy: 0.9727 - val_loss: 1.2324 - val_accuracy: 0.7701\n",
      "Epoch 10/30\n",
      "161/161 [==============================] - 32s 198ms/step - loss: 0.1798 - accuracy: 0.9732 - val_loss: 0.9316 - val_accuracy: 0.8178\n",
      "Epoch 11/30\n",
      "161/161 [==============================] - 32s 198ms/step - loss: 0.2367 - accuracy: 0.9789 - val_loss: 1.0258 - val_accuracy: 0.8342\n",
      "Epoch 12/30\n",
      "161/161 [==============================] - 32s 198ms/step - loss: 0.2920 - accuracy: 0.9707 - val_loss: 0.9461 - val_accuracy: 0.8178\n",
      "Epoch 13/30\n",
      "161/161 [==============================] - 32s 198ms/step - loss: 0.2029 - accuracy: 0.9756 - val_loss: 1.1205 - val_accuracy: 0.8030\n",
      "Epoch 14/30\n",
      "161/161 [==============================] - 32s 198ms/step - loss: 0.2234 - accuracy: 0.9863 - val_loss: 1.3940 - val_accuracy: 0.8186\n",
      "Epoch 15/30\n",
      "161/161 [==============================] - 32s 198ms/step - loss: 0.3403 - accuracy: 0.9770 - val_loss: 1.0692 - val_accuracy: 0.8092\n",
      "Epoch 16/30\n",
      "161/161 [==============================] - 32s 198ms/step - loss: 0.1020 - accuracy: 0.9938 - val_loss: 1.3962 - val_accuracy: 0.8194\n",
      "Epoch 17/30\n",
      "161/161 [==============================] - 32s 198ms/step - loss: 0.2630 - accuracy: 0.9887 - val_loss: 1.3892 - val_accuracy: 0.8202\n",
      "Epoch 18/30\n",
      "161/161 [==============================] - 32s 198ms/step - loss: 0.3808 - accuracy: 0.9807 - val_loss: 0.9540 - val_accuracy: 0.8178\n",
      "Epoch 19/30\n",
      "161/161 [==============================] - 32s 198ms/step - loss: 0.1938 - accuracy: 0.9906 - val_loss: 1.2361 - val_accuracy: 0.8280\n",
      "Epoch 20/30\n",
      "161/161 [==============================] - 32s 198ms/step - loss: 0.2340 - accuracy: 0.9930 - val_loss: 1.6344 - val_accuracy: 0.8217\n",
      "Epoch 21/30\n",
      "161/161 [==============================] - 32s 198ms/step - loss: 0.1960 - accuracy: 0.9934 - val_loss: 1.6435 - val_accuracy: 0.8311\n",
      "Epoch 22/30\n",
      "161/161 [==============================] - 32s 198ms/step - loss: 0.2322 - accuracy: 0.9922 - val_loss: 1.9298 - val_accuracy: 0.8069\n",
      "Epoch 23/30\n",
      "161/161 [==============================] - 32s 198ms/step - loss: 0.4554 - accuracy: 0.9871 - val_loss: 2.1515 - val_accuracy: 0.7740\n",
      "Epoch 24/30\n",
      "161/161 [==============================] - 32s 198ms/step - loss: 0.1243 - accuracy: 0.9953 - val_loss: 1.6326 - val_accuracy: 0.8163\n",
      "Epoch 25/30\n",
      "161/161 [==============================] - 32s 198ms/step - loss: 0.2260 - accuracy: 0.9947 - val_loss: 1.6489 - val_accuracy: 0.8163\n",
      "Epoch 26/30\n",
      "161/161 [==============================] - 32s 198ms/step - loss: 0.1949 - accuracy: 0.9939 - val_loss: 1.6863 - val_accuracy: 0.8186\n",
      "Epoch 27/30\n",
      "161/161 [==============================] - 32s 198ms/step - loss: 0.3155 - accuracy: 0.9885 - val_loss: 1.8722 - val_accuracy: 0.8100\n",
      "Epoch 28/30\n",
      "161/161 [==============================] - 32s 198ms/step - loss: 0.1353 - accuracy: 0.9932 - val_loss: 1.6447 - val_accuracy: 0.8084\n",
      "Epoch 29/30\n",
      "161/161 [==============================] - 32s 198ms/step - loss: 0.2390 - accuracy: 0.9920 - val_loss: 1.6832 - val_accuracy: 0.8045\n",
      "Epoch 30/30\n",
      "161/161 [==============================] - 32s 198ms/step - loss: 0.2766 - accuracy: 0.9883 - val_loss: 1.7765 - val_accuracy: 0.8194\n"
     ]
    }
   ],
   "source": [
    "epochs = 30\n",
    "model.compile(loss=\"binary_crossentropy\",\n",
    "              optimizer=keras.optimizers.RMSprop(learning_rate=0.0001),\n",
    "              metrics=[\"accuracy\"])\n",
    "\n",
    "history = model.fit(train_dataset, epochs=epochs, validation_data=test_dataset)"
   ]
  },
  {
   "cell_type": "code",
   "execution_count": 6,
   "id": "c455d000",
   "metadata": {},
   "outputs": [
    {
     "data": {
      "image/png": "[encoded data removed]",
      "text/plain": [
       "<Figure size 432x288 with 1 Axes>"
      ]
     },
     "metadata": {
      "needs_background": "light"
     },
     "output_type": "display_data"
    }
   ],
   "source": [
    "plt.title('VGG19 Transfer Learning Accuracy')\n",
    "\n",
    "plt.plot(history.history['accuracy'], label = \"training acc.\")\n",
    "plt.plot(history.history['val_accuracy'], label = \"validation acc.\")\n",
    "plt.ylabel('accuracy')\n",
    "plt.xlabel('epoch')\n",
    "plt.legend(['training acc.', 'validation acc.'], loc='upper left')\n",
    "\n",
    "plt.savefig(\"../Project/Result/VGG19_MODEL_ACCURACY\")\n",
    "plt.show()\n"
   ]
  },
  {
   "cell_type": "code",
   "execution_count": null,
   "id": "4583d1cc",
   "metadata": {},
   "outputs": [],
   "source": []
  }
 ],
 "metadata": {
  "kernelspec": {
   "display_name": "Python 3",
   "language": "python",
   "name": "python3"
  },
  "language_info": {
   "codemirror_mode": {
    "name": "ipython",
    "version": 3
   },
   "file_extension": ".py",
   "mimetype": "text/x-python",
   "name": "python",
   "nbconvert_exporter": "python",
   "pygments_lexer": "ipython3",
   "version": "3.8.12"
  }
 },
 "nbformat": 4,
 "nbformat_minor": 5
}
